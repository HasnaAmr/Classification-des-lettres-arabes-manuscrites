{
 "cells": [
  {
   "cell_type": "markdown",
   "id": "b670e4a0",
   "metadata": {},
   "source": [
    "# Mini projet : Machine Learning et OCR\n",
    "## Classification des lettres arabes (des noms et prénoms d'étudiants SDAD S3)\n",
    "### Module: Machine learning\n",
    "#### Réaliser par : AMRANI Hasna & ROUI Ilham"
   ]
  },
  {
   "cell_type": "markdown",
   "id": "f097066d",
   "metadata": {},
   "source": [
    "### Importer quelques bibliothèques que nous utiliserons dans ce projet."
   ]
  },
  {
   "cell_type": "code",
   "execution_count": 153,
   "id": "4bfa1cb0",
   "metadata": {},
   "outputs": [],
   "source": [
    "import numpy as np\n",
    "import pandas as pd \n",
    "from matplotlib import pyplot\n",
    "import seaborn as sns\n",
    "from sklearn.ensemble import RandomForestClassifier \n",
    "from sklearn.metrics import classification_report, confusion_matrix\n",
    "from sklearn.model_selection import cross_val_score\n",
    "#To show graphs within the notebook\n",
    "%matplotlib inline "
   ]
  },
  {
   "cell_type": "markdown",
   "id": "95d0570f",
   "metadata": {},
   "source": [
    "###  Importation de l’ensemble de données "
   ]
  },
  {
   "cell_type": "code",
   "execution_count": 158,
   "id": "7bbfa588",
   "metadata": {},
   "outputs": [],
   "source": [
    "data=pd.read_csv(\"C:/Users/HP/Documents/SDAD_S3/ML/projet/arabe/mnist-arabic.csv\")"
   ]
  },
  {
   "cell_type": "code",
   "execution_count": 159,
   "id": "17c60000",
   "metadata": {},
   "outputs": [
    {
     "data": {
      "text/html": [
       "<div>\n",
       "<style scoped>\n",
       "    .dataframe tbody tr th:only-of-type {\n",
       "        vertical-align: middle;\n",
       "    }\n",
       "\n",
       "    .dataframe tbody tr th {\n",
       "        vertical-align: top;\n",
       "    }\n",
       "\n",
       "    .dataframe thead th {\n",
       "        text-align: right;\n",
       "    }\n",
       "</style>\n",
       "<table border=\"1\" class=\"dataframe\">\n",
       "  <thead>\n",
       "    <tr style=\"text-align: right;\">\n",
       "      <th></th>\n",
       "      <th>label</th>\n",
       "      <th>1x1</th>\n",
       "      <th>1x2</th>\n",
       "      <th>1x3</th>\n",
       "      <th>1x4</th>\n",
       "      <th>1x5</th>\n",
       "      <th>1x6</th>\n",
       "      <th>1x7</th>\n",
       "      <th>1x8</th>\n",
       "      <th>1x9</th>\n",
       "      <th>...</th>\n",
       "      <th>28x19</th>\n",
       "      <th>28x20</th>\n",
       "      <th>28x21</th>\n",
       "      <th>28x22</th>\n",
       "      <th>28x23</th>\n",
       "      <th>28x24</th>\n",
       "      <th>28x25</th>\n",
       "      <th>28x26</th>\n",
       "      <th>28x27</th>\n",
       "      <th>28x28</th>\n",
       "    </tr>\n",
       "  </thead>\n",
       "  <tbody>\n",
       "    <tr>\n",
       "      <th>0</th>\n",
       "      <td>ain</td>\n",
       "      <td>0</td>\n",
       "      <td>0</td>\n",
       "      <td>0</td>\n",
       "      <td>0</td>\n",
       "      <td>0</td>\n",
       "      <td>0</td>\n",
       "      <td>0</td>\n",
       "      <td>0</td>\n",
       "      <td>0</td>\n",
       "      <td>...</td>\n",
       "      <td>0</td>\n",
       "      <td>0</td>\n",
       "      <td>0</td>\n",
       "      <td>0</td>\n",
       "      <td>0</td>\n",
       "      <td>0</td>\n",
       "      <td>0</td>\n",
       "      <td>0</td>\n",
       "      <td>0</td>\n",
       "      <td>0</td>\n",
       "    </tr>\n",
       "    <tr>\n",
       "      <th>1</th>\n",
       "      <td>ain</td>\n",
       "      <td>0</td>\n",
       "      <td>0</td>\n",
       "      <td>0</td>\n",
       "      <td>0</td>\n",
       "      <td>0</td>\n",
       "      <td>0</td>\n",
       "      <td>0</td>\n",
       "      <td>0</td>\n",
       "      <td>0</td>\n",
       "      <td>...</td>\n",
       "      <td>0</td>\n",
       "      <td>0</td>\n",
       "      <td>0</td>\n",
       "      <td>0</td>\n",
       "      <td>0</td>\n",
       "      <td>0</td>\n",
       "      <td>0</td>\n",
       "      <td>0</td>\n",
       "      <td>0</td>\n",
       "      <td>0</td>\n",
       "    </tr>\n",
       "    <tr>\n",
       "      <th>2</th>\n",
       "      <td>ain</td>\n",
       "      <td>0</td>\n",
       "      <td>0</td>\n",
       "      <td>0</td>\n",
       "      <td>0</td>\n",
       "      <td>0</td>\n",
       "      <td>0</td>\n",
       "      <td>0</td>\n",
       "      <td>0</td>\n",
       "      <td>0</td>\n",
       "      <td>...</td>\n",
       "      <td>0</td>\n",
       "      <td>0</td>\n",
       "      <td>0</td>\n",
       "      <td>0</td>\n",
       "      <td>0</td>\n",
       "      <td>0</td>\n",
       "      <td>0</td>\n",
       "      <td>0</td>\n",
       "      <td>0</td>\n",
       "      <td>0</td>\n",
       "    </tr>\n",
       "    <tr>\n",
       "      <th>3</th>\n",
       "      <td>ain</td>\n",
       "      <td>0</td>\n",
       "      <td>0</td>\n",
       "      <td>0</td>\n",
       "      <td>0</td>\n",
       "      <td>0</td>\n",
       "      <td>0</td>\n",
       "      <td>0</td>\n",
       "      <td>0</td>\n",
       "      <td>0</td>\n",
       "      <td>...</td>\n",
       "      <td>0</td>\n",
       "      <td>0</td>\n",
       "      <td>0</td>\n",
       "      <td>0</td>\n",
       "      <td>0</td>\n",
       "      <td>0</td>\n",
       "      <td>0</td>\n",
       "      <td>0</td>\n",
       "      <td>0</td>\n",
       "      <td>0</td>\n",
       "    </tr>\n",
       "    <tr>\n",
       "      <th>4</th>\n",
       "      <td>ain</td>\n",
       "      <td>0</td>\n",
       "      <td>0</td>\n",
       "      <td>0</td>\n",
       "      <td>0</td>\n",
       "      <td>0</td>\n",
       "      <td>0</td>\n",
       "      <td>0</td>\n",
       "      <td>0</td>\n",
       "      <td>0</td>\n",
       "      <td>...</td>\n",
       "      <td>0</td>\n",
       "      <td>0</td>\n",
       "      <td>0</td>\n",
       "      <td>0</td>\n",
       "      <td>0</td>\n",
       "      <td>0</td>\n",
       "      <td>0</td>\n",
       "      <td>0</td>\n",
       "      <td>0</td>\n",
       "      <td>0</td>\n",
       "    </tr>\n",
       "  </tbody>\n",
       "</table>\n",
       "<p>5 rows × 785 columns</p>\n",
       "</div>"
      ],
      "text/plain": [
       "  label  1x1  1x2  1x3  1x4  1x5  1x6  1x7  1x8  1x9  ...  28x19  28x20  \\\n",
       "0   ain    0    0    0    0    0    0    0    0    0  ...      0      0   \n",
       "1   ain    0    0    0    0    0    0    0    0    0  ...      0      0   \n",
       "2   ain    0    0    0    0    0    0    0    0    0  ...      0      0   \n",
       "3   ain    0    0    0    0    0    0    0    0    0  ...      0      0   \n",
       "4   ain    0    0    0    0    0    0    0    0    0  ...      0      0   \n",
       "\n",
       "   28x21  28x22  28x23  28x24  28x25  28x26  28x27  28x28  \n",
       "0      0      0      0      0      0      0      0      0  \n",
       "1      0      0      0      0      0      0      0      0  \n",
       "2      0      0      0      0      0      0      0      0  \n",
       "3      0      0      0      0      0      0      0      0  \n",
       "4      0      0      0      0      0      0      0      0  \n",
       "\n",
       "[5 rows x 785 columns]"
      ]
     },
     "execution_count": 159,
     "metadata": {},
     "output_type": "execute_result"
    }
   ],
   "source": [
    "data.head()"
   ]
  },
  {
   "cell_type": "code",
   "execution_count": 160,
   "id": "452cd9a1",
   "metadata": {},
   "outputs": [
    {
     "data": {
      "text/plain": [
       "(7392, 785)"
      ]
     },
     "execution_count": 160,
     "metadata": {},
     "output_type": "execute_result"
    }
   ],
   "source": [
    "data.shape"
   ]
  },
  {
   "cell_type": "markdown",
   "id": "047e8f8f",
   "metadata": {},
   "source": [
    "###  Le nombre  d'occurence de chaque classes dans le jeu de données"
   ]
  },
  {
   "cell_type": "code",
   "execution_count": 161,
   "id": "87d473e2",
   "metadata": {},
   "outputs": [
    {
     "data": {
      "text/plain": [
       "<AxesSubplot:title={'center':'Count (target)'}>"
      ]
     },
     "execution_count": 161,
     "metadata": {},
     "output_type": "execute_result"
    },
    {
     "data": {
      "image/png": "[encoded data removed]",
      "text/plain": [
       "<Figure size 432x288 with 1 Axes>"
      ]
     },
     "metadata": {
      "needs_background": "light"
     },
     "output_type": "display_data"
    }
   ],
   "source": [
    "target_count = data[\"label\"].value_counts()\n",
    "target_count.plot(kind='bar', title='Count (target)')"
   ]
  },
  {
   "cell_type": "raw",
   "id": "486b370d",
   "metadata": {},
   "source": [
    "Remarquons que les données ne sont pas équilibré entre les classes"
   ]
  },
  {
   "cell_type": "markdown",
   "id": "0de76b0b",
   "metadata": {},
   "source": [
    "### RandomForest sur l'ensemble d'entrainement avant balence du jeu de données"
   ]
  },
  {
   "cell_type": "code",
   "execution_count": 167,
   "id": "7193c283",
   "metadata": {},
   "outputs": [
    {
     "data": {
      "text/plain": [
       "RandomForestClassifier()"
      ]
     },
     "execution_count": 167,
     "metadata": {},
     "output_type": "execute_result"
    }
   ],
   "source": [
    "from sklearn.model_selection import train_test_split\n",
    "X = data_b.drop([\"label\"], axis=1)\n",
    "y = data_b[\"label\"]\n",
    "X_train, X_test, y_train, y_test = train_test_split(X, y, test_size=0.3, shuffle=False)\n",
    "model = RandomForestClassifier(n_estimators=100)\n",
    "model.fit(X_train,y_train)"
   ]
  },
  {
   "cell_type": "code",
   "execution_count": 166,
   "id": "0348b951",
   "metadata": {},
   "outputs": [
    {
     "name": "stdout",
     "output_type": "stream",
     "text": [
      "Classification Report\n",
      "              precision    recall  f1-score   support\n",
      "\n",
      "         ain       1.00      1.00      1.00       773\n",
      "     ain_end       1.00      1.00      1.00       773\n",
      "  ain_middle       1.00      1.00      1.00       773\n",
      "   ain_start       1.00      1.00      1.00       773\n",
      "        alif       0.99      0.99      0.99       773\n",
      "    alif_end       0.99      0.99      0.99       773\n",
      "alif_maqsora       1.00      1.00      1.00       773\n",
      "     bae_end       1.00      1.00      1.00       773\n",
      "  bae_middle       1.00      1.00      1.00       773\n",
      "   bae_start       1.00      1.00      1.00       773\n",
      "   dad_start       1.00      1.00      1.00       773\n",
      "         dal       0.97      0.98      0.98       773\n",
      "     dal_end       0.98      0.97      0.98       773\n",
      "      fa_end       1.00      1.00      1.00       773\n",
      "   fa_middle       1.00      1.00      1.00       773\n",
      "    fa_start       1.00      1.00      1.00       773\n",
      "ghain_middle       1.00      1.00      1.00       773\n",
      "   hae_start       1.00      1.00      1.00       773\n",
      "       hamza       1.00      1.00      1.00       773\n",
      " hhae_middle       1.00      1.00      1.00       773\n",
      "  hhae_start       1.00      1.00      1.00       773\n",
      "        jeem       1.00      1.00      1.00       773\n",
      "  jeem_start       1.00      1.00      1.00       773\n",
      "  kaf_middle       1.00      1.00      1.00       773\n",
      "   kaf_start       1.00      1.00      1.00       773\n",
      " khae_middle       1.00      1.00      1.00       773\n",
      "  khae_start       1.00      1.00      1.00       773\n",
      "    lam_alif       1.00      1.00      1.00       773\n",
      "     lam_end       1.00      1.00      1.00       773\n",
      "  lam_middle       1.00      1.00      1.00       773\n",
      "   lam_start       1.00      1.00      1.00       773\n",
      "         mim       1.00      1.00      1.00       773\n",
      "  mim_middle       1.00      1.00      1.00       773\n",
      "   mim_start       1.00      1.00      1.00       773\n",
      "        noun       0.98      0.97      0.97       773\n",
      "    noun_end       0.97      0.98      0.97       773\n",
      " noun_middle       1.00      1.00      1.00       773\n",
      "  noun_start       1.00      1.00      1.00       773\n",
      "  qua_middle       1.00      1.00      1.00       773\n",
      "         rae       1.00      1.00      1.00       502\n",
      "\n",
      "    accuracy                           1.00     30649\n",
      "   macro avg       1.00      1.00      1.00     30649\n",
      "weighted avg       1.00      1.00      1.00     30649\n",
      "\n"
     ]
    }
   ],
   "source": [
    "#Classification Report d'entrainement\n",
    "pred=model.predict(X_train)\n",
    "print (\"Classification Report\")\n",
    "print(classification_report(y_train, pred))"
   ]
  },
  {
   "cell_type": "code",
   "execution_count": 168,
   "id": "47ba4b22",
   "metadata": {},
   "outputs": [
    {
     "name": "stdout",
     "output_type": "stream",
     "text": [
      "Classification Report\n"
     ]
    },
    {
     "name": "stderr",
     "output_type": "stream",
     "text": [
      "C:\\Users\\HP\\Desktop\\Anaconda3\\lib\\site-packages\\sklearn\\metrics\\_classification.py:1245: UndefinedMetricWarning: Precision and F-score are ill-defined and being set to 0.0 in labels with no predicted samples. Use `zero_division` parameter to control this behavior.\n",
      "  _warn_prf(average, modifier, msg_start, len(result))\n",
      "C:\\Users\\HP\\Desktop\\Anaconda3\\lib\\site-packages\\sklearn\\metrics\\_classification.py:1245: UndefinedMetricWarning: Recall and F-score are ill-defined and being set to 0.0 in labels with no true samples. Use `zero_division` parameter to control this behavior.\n",
      "  _warn_prf(average, modifier, msg_start, len(result))\n"
     ]
    },
    {
     "name": "stdout",
     "output_type": "stream",
     "text": [
      "                  precision    recall  f1-score   support\n",
      "\n",
      "             ain       0.00      0.00      0.00         0\n",
      "         ain_end       0.00      0.00      0.00         0\n",
      "      ain_middle       0.00      0.00      0.00         0\n",
      "       ain_start       0.00      0.00      0.00         0\n",
      "            alif       0.00      0.00      0.00         0\n",
      "        alif_end       0.00      0.00      0.00         0\n",
      "    alif_maqsora       0.00      0.00      0.00         0\n",
      "         bae_end       0.00      0.00      0.00         0\n",
      "      bae_middle       0.00      0.00      0.00         0\n",
      "       bae_start       0.00      0.00      0.00         0\n",
      "       dad_start       0.00      0.00      0.00         0\n",
      "             dal       0.00      0.00      0.00         0\n",
      "         dal_end       0.00      0.00      0.00         0\n",
      "       fa_middle       0.00      0.00      0.00         0\n",
      "        fa_start       0.00      0.00      0.00         0\n",
      "    ghain_middle       0.00      0.00      0.00         0\n",
      "       hae_start       0.00      0.00      0.00         0\n",
      "           hamza       0.00      0.00      0.00         0\n",
      "     hhae_middle       0.00      0.00      0.00         0\n",
      "      hhae_start       0.00      0.00      0.00         0\n",
      "            jeem       0.00      0.00      0.00         0\n",
      "      jeem_start       0.00      0.00      0.00         0\n",
      "      kaf_middle       0.00      0.00      0.00         0\n",
      "       kaf_start       0.00      0.00      0.00         0\n",
      "     khae_middle       0.00      0.00      0.00         0\n",
      "      khae_start       0.00      0.00      0.00         0\n",
      "        lam_alif       0.00      0.00      0.00         0\n",
      "         lam_end       0.00      0.00      0.00         0\n",
      "      lam_middle       0.00      0.00      0.00         0\n",
      "       lam_start       0.00      0.00      0.00         0\n",
      "             mim       0.00      0.00      0.00         0\n",
      "      mim_middle       0.00      0.00      0.00         0\n",
      "       mim_start       0.00      0.00      0.00         0\n",
      "            noun       0.00      0.00      0.00         0\n",
      "        noun_end       0.00      0.00      0.00         0\n",
      "     noun_middle       0.00      0.00      0.00         0\n",
      "      noun_start       0.00      0.00      0.00         0\n",
      "             rae       0.00      0.00      0.00         0\n",
      "         rae_end       0.00      0.00      0.00         0\n",
      "            seen       0.22      1.00      0.37       232\n",
      "        seen_end       0.00      0.00      0.00       773\n",
      "     seen_middle       0.00      0.00      0.00       773\n",
      "      seen_start       0.00      0.00      0.00       773\n",
      "    sheen_middle       0.00      0.00      0.00       773\n",
      "     sheen_start       0.00      0.00      0.00       773\n",
      "       ta_middle       0.00      0.00      0.00       773\n",
      "         tae_end       0.00      0.00      0.00       773\n",
      "    tae_marbouta       0.00      0.00      0.00       773\n",
      "tae_marbouta_end       0.00      0.00      0.00       773\n",
      "      tae_middle       0.00      0.00      0.00       773\n",
      "            thae       0.00      0.00      0.00       773\n",
      "             waw       0.00      0.00      0.00       773\n",
      "         waw_end       0.00      0.00      0.00       773\n",
      "         yae_end       0.00      0.00      0.00       773\n",
      "      yae_middle       0.00      0.00      0.00       773\n",
      "       yae_start       0.00      0.00      0.00       773\n",
      "             zae       0.00      0.00      0.00       773\n",
      "         zae_end       0.00      0.00      0.00       773\n",
      "\n",
      "        accuracy                           0.02     14146\n",
      "       macro avg       0.00      0.02      0.01     14146\n",
      "    weighted avg       0.00      0.02      0.01     14146\n",
      "\n"
     ]
    },
    {
     "name": "stderr",
     "output_type": "stream",
     "text": [
      "C:\\Users\\HP\\Desktop\\Anaconda3\\lib\\site-packages\\sklearn\\metrics\\_classification.py:1245: UndefinedMetricWarning: Precision and F-score are ill-defined and being set to 0.0 in labels with no predicted samples. Use `zero_division` parameter to control this behavior.\n",
      "  _warn_prf(average, modifier, msg_start, len(result))\n",
      "C:\\Users\\HP\\Desktop\\Anaconda3\\lib\\site-packages\\sklearn\\metrics\\_classification.py:1245: UndefinedMetricWarning: Recall and F-score are ill-defined and being set to 0.0 in labels with no true samples. Use `zero_division` parameter to control this behavior.\n",
      "  _warn_prf(average, modifier, msg_start, len(result))\n",
      "C:\\Users\\HP\\Desktop\\Anaconda3\\lib\\site-packages\\sklearn\\metrics\\_classification.py:1245: UndefinedMetricWarning: Precision and F-score are ill-defined and being set to 0.0 in labels with no predicted samples. Use `zero_division` parameter to control this behavior.\n",
      "  _warn_prf(average, modifier, msg_start, len(result))\n",
      "C:\\Users\\HP\\Desktop\\Anaconda3\\lib\\site-packages\\sklearn\\metrics\\_classification.py:1245: UndefinedMetricWarning: Recall and F-score are ill-defined and being set to 0.0 in labels with no true samples. Use `zero_division` parameter to control this behavior.\n",
      "  _warn_prf(average, modifier, msg_start, len(result))\n"
     ]
    }
   ],
   "source": [
    "#Classification Report de testing\n",
    "pred=model.predict(X_test)\n",
    "print (\"Classification Report\")\n",
    "print(classification_report(y_test, pred))"
   ]
  },
  {
   "cell_type": "raw",
   "id": "8459f523",
   "metadata": {},
   "source": [
    "On a accuracy=100% pour l'entraiment et 20% pour le testing\n",
    "On parle d'over-fitting \n",
    "On a proposé comme solution d'équilibrer notre jeu de données "
   ]
  },
  {
   "cell_type": "markdown",
   "id": "23644beb",
   "metadata": {},
   "source": [
    "### équilibrer notre jeu de données"
   ]
  },
  {
   "cell_type": "code",
   "execution_count": 10,
   "id": "d7665028",
   "metadata": {},
   "outputs": [
    {
     "name": "stdout",
     "output_type": "stream",
     "text": [
      "class  ain  a pour size (773, 785)\n",
      "class  ain_end  a pour size (773, 785)\n",
      "class  ain_middle  a pour size (773, 785)\n",
      "class  ain_start  a pour size (773, 785)\n",
      "class  alif_end  a pour size (773, 785)\n",
      "class  alif_maqsora  a pour size (773, 785)\n",
      "class  bae_end  a pour size (773, 785)\n",
      "class  bae_middle  a pour size (773, 785)\n",
      "class  bae_start  a pour size (773, 785)\n",
      "class  dad_start  a pour size (773, 785)\n",
      "class  dal  a pour size (773, 785)\n",
      "class  dal_end  a pour size (773, 785)\n",
      "class  fa_end  a pour size (773, 785)\n",
      "class  fa_middle  a pour size (773, 785)\n",
      "class  fa_start  a pour size (773, 785)\n",
      "class  ghain_middle  a pour size (773, 785)\n",
      "class  hae_start  a pour size (773, 785)\n",
      "class  hamza  a pour size (773, 785)\n",
      "class  hhae_middle  a pour size (773, 785)\n",
      "class  hhae_start  a pour size (773, 785)\n",
      "class  jeem  a pour size (773, 785)\n",
      "class  jeem_start  a pour size (773, 785)\n",
      "class  kaf_middle  a pour size (773, 785)\n",
      "class  kaf_start  a pour size (773, 785)\n",
      "class  khae_middle  a pour size (773, 785)\n",
      "class  khae_start  a pour size (773, 785)\n",
      "class  lam_alif  a pour size (773, 785)\n",
      "class  lam_end  a pour size (773, 785)\n",
      "class  lam_middle  a pour size (773, 785)\n",
      "class  lam_start  a pour size (773, 785)\n",
      "class  mim  a pour size (773, 785)\n",
      "class  mim_middle  a pour size (773, 785)\n",
      "class  mim_start  a pour size (773, 785)\n",
      "class  noun  a pour size (773, 785)\n",
      "class  noun_end  a pour size (773, 785)\n",
      "class  noun_middle  a pour size (773, 785)\n",
      "class  noun_start  a pour size (773, 785)\n",
      "class  qua_middle  a pour size (773, 785)\n",
      "class  rae  a pour size (773, 785)\n",
      "class  rae_end  a pour size (773, 785)\n",
      "class  sad_start  a pour size (773, 785)\n",
      "class  seen  a pour size (773, 785)\n",
      "class  seen_end  a pour size (773, 785)\n",
      "class  seen_middle  a pour size (773, 785)\n",
      "class  seen_start  a pour size (773, 785)\n",
      "class  sheen_middle  a pour size (773, 785)\n",
      "class  sheen_start  a pour size (773, 785)\n",
      "class  tae_end  a pour size (773, 785)\n",
      "class  tae_marbouta  a pour size (773, 785)\n",
      "class  tae_marbouta_end  a pour size (773, 785)\n",
      "class  tae_middle  a pour size (773, 785)\n",
      "class  ta_middle  a pour size (773, 785)\n",
      "class  thae  a pour size (773, 785)\n",
      "class  waw  a pour size (773, 785)\n",
      "class  waw_end  a pour size (773, 785)\n",
      "class  yae_end  a pour size (773, 785)\n",
      "class  yae_middle  a pour size (773, 785)\n",
      "class  yae_start  a pour size (773, 785)\n",
      "class  zae  a pour size (773, 785)\n",
      "class  zae_end  a pour size (773, 785)\n"
     ]
    },
    {
     "data": {
      "text/html": [
       "<div>\n",
       "<style scoped>\n",
       "    .dataframe tbody tr th:only-of-type {\n",
       "        vertical-align: middle;\n",
       "    }\n",
       "\n",
       "    .dataframe tbody tr th {\n",
       "        vertical-align: top;\n",
       "    }\n",
       "\n",
       "    .dataframe thead th {\n",
       "        text-align: right;\n",
       "    }\n",
       "</style>\n",
       "<table border=\"1\" class=\"dataframe\">\n",
       "  <thead>\n",
       "    <tr style=\"text-align: right;\">\n",
       "      <th></th>\n",
       "      <th>label</th>\n",
       "      <th>1x1</th>\n",
       "      <th>1x2</th>\n",
       "      <th>1x3</th>\n",
       "      <th>1x4</th>\n",
       "      <th>1x5</th>\n",
       "      <th>1x6</th>\n",
       "      <th>1x7</th>\n",
       "      <th>1x8</th>\n",
       "      <th>1x9</th>\n",
       "      <th>...</th>\n",
       "      <th>28x19</th>\n",
       "      <th>28x20</th>\n",
       "      <th>28x21</th>\n",
       "      <th>28x22</th>\n",
       "      <th>28x23</th>\n",
       "      <th>28x24</th>\n",
       "      <th>28x25</th>\n",
       "      <th>28x26</th>\n",
       "      <th>28x27</th>\n",
       "      <th>28x28</th>\n",
       "    </tr>\n",
       "  </thead>\n",
       "  <tbody>\n",
       "    <tr>\n",
       "      <th>234</th>\n",
       "      <td>alif</td>\n",
       "      <td>0</td>\n",
       "      <td>0</td>\n",
       "      <td>0</td>\n",
       "      <td>0</td>\n",
       "      <td>0</td>\n",
       "      <td>0</td>\n",
       "      <td>0</td>\n",
       "      <td>0</td>\n",
       "      <td>0</td>\n",
       "      <td>...</td>\n",
       "      <td>0</td>\n",
       "      <td>0</td>\n",
       "      <td>0</td>\n",
       "      <td>0</td>\n",
       "      <td>0</td>\n",
       "      <td>0</td>\n",
       "      <td>0</td>\n",
       "      <td>0</td>\n",
       "      <td>0</td>\n",
       "      <td>0</td>\n",
       "    </tr>\n",
       "    <tr>\n",
       "      <th>235</th>\n",
       "      <td>alif</td>\n",
       "      <td>0</td>\n",
       "      <td>0</td>\n",
       "      <td>0</td>\n",
       "      <td>0</td>\n",
       "      <td>0</td>\n",
       "      <td>0</td>\n",
       "      <td>0</td>\n",
       "      <td>0</td>\n",
       "      <td>0</td>\n",
       "      <td>...</td>\n",
       "      <td>0</td>\n",
       "      <td>0</td>\n",
       "      <td>0</td>\n",
       "      <td>0</td>\n",
       "      <td>0</td>\n",
       "      <td>0</td>\n",
       "      <td>0</td>\n",
       "      <td>0</td>\n",
       "      <td>0</td>\n",
       "      <td>0</td>\n",
       "    </tr>\n",
       "    <tr>\n",
       "      <th>236</th>\n",
       "      <td>alif</td>\n",
       "      <td>0</td>\n",
       "      <td>0</td>\n",
       "      <td>0</td>\n",
       "      <td>0</td>\n",
       "      <td>0</td>\n",
       "      <td>0</td>\n",
       "      <td>0</td>\n",
       "      <td>0</td>\n",
       "      <td>0</td>\n",
       "      <td>...</td>\n",
       "      <td>0</td>\n",
       "      <td>0</td>\n",
       "      <td>0</td>\n",
       "      <td>0</td>\n",
       "      <td>0</td>\n",
       "      <td>0</td>\n",
       "      <td>0</td>\n",
       "      <td>0</td>\n",
       "      <td>0</td>\n",
       "      <td>0</td>\n",
       "    </tr>\n",
       "    <tr>\n",
       "      <th>237</th>\n",
       "      <td>alif</td>\n",
       "      <td>0</td>\n",
       "      <td>0</td>\n",
       "      <td>0</td>\n",
       "      <td>0</td>\n",
       "      <td>0</td>\n",
       "      <td>0</td>\n",
       "      <td>0</td>\n",
       "      <td>0</td>\n",
       "      <td>0</td>\n",
       "      <td>...</td>\n",
       "      <td>0</td>\n",
       "      <td>0</td>\n",
       "      <td>0</td>\n",
       "      <td>0</td>\n",
       "      <td>0</td>\n",
       "      <td>0</td>\n",
       "      <td>0</td>\n",
       "      <td>0</td>\n",
       "      <td>0</td>\n",
       "      <td>0</td>\n",
       "    </tr>\n",
       "    <tr>\n",
       "      <th>238</th>\n",
       "      <td>alif</td>\n",
       "      <td>0</td>\n",
       "      <td>0</td>\n",
       "      <td>0</td>\n",
       "      <td>0</td>\n",
       "      <td>0</td>\n",
       "      <td>0</td>\n",
       "      <td>0</td>\n",
       "      <td>0</td>\n",
       "      <td>0</td>\n",
       "      <td>...</td>\n",
       "      <td>0</td>\n",
       "      <td>0</td>\n",
       "      <td>0</td>\n",
       "      <td>0</td>\n",
       "      <td>0</td>\n",
       "      <td>0</td>\n",
       "      <td>0</td>\n",
       "      <td>0</td>\n",
       "      <td>0</td>\n",
       "      <td>0</td>\n",
       "    </tr>\n",
       "    <tr>\n",
       "      <th>...</th>\n",
       "      <td>...</td>\n",
       "      <td>...</td>\n",
       "      <td>...</td>\n",
       "      <td>...</td>\n",
       "      <td>...</td>\n",
       "      <td>...</td>\n",
       "      <td>...</td>\n",
       "      <td>...</td>\n",
       "      <td>...</td>\n",
       "      <td>...</td>\n",
       "      <td>...</td>\n",
       "      <td>...</td>\n",
       "      <td>...</td>\n",
       "      <td>...</td>\n",
       "      <td>...</td>\n",
       "      <td>...</td>\n",
       "      <td>...</td>\n",
       "      <td>...</td>\n",
       "      <td>...</td>\n",
       "      <td>...</td>\n",
       "      <td>...</td>\n",
       "    </tr>\n",
       "    <tr>\n",
       "      <th>7367</th>\n",
       "      <td>zae_end</td>\n",
       "      <td>0</td>\n",
       "      <td>0</td>\n",
       "      <td>0</td>\n",
       "      <td>0</td>\n",
       "      <td>0</td>\n",
       "      <td>0</td>\n",
       "      <td>0</td>\n",
       "      <td>0</td>\n",
       "      <td>0</td>\n",
       "      <td>...</td>\n",
       "      <td>0</td>\n",
       "      <td>0</td>\n",
       "      <td>0</td>\n",
       "      <td>0</td>\n",
       "      <td>0</td>\n",
       "      <td>0</td>\n",
       "      <td>0</td>\n",
       "      <td>0</td>\n",
       "      <td>0</td>\n",
       "      <td>0</td>\n",
       "    </tr>\n",
       "    <tr>\n",
       "      <th>7391</th>\n",
       "      <td>zae_end</td>\n",
       "      <td>0</td>\n",
       "      <td>0</td>\n",
       "      <td>0</td>\n",
       "      <td>0</td>\n",
       "      <td>0</td>\n",
       "      <td>0</td>\n",
       "      <td>0</td>\n",
       "      <td>0</td>\n",
       "      <td>0</td>\n",
       "      <td>...</td>\n",
       "      <td>0</td>\n",
       "      <td>0</td>\n",
       "      <td>0</td>\n",
       "      <td>0</td>\n",
       "      <td>0</td>\n",
       "      <td>0</td>\n",
       "      <td>0</td>\n",
       "      <td>0</td>\n",
       "      <td>0</td>\n",
       "      <td>0</td>\n",
       "    </tr>\n",
       "    <tr>\n",
       "      <th>7375</th>\n",
       "      <td>zae_end</td>\n",
       "      <td>0</td>\n",
       "      <td>0</td>\n",
       "      <td>0</td>\n",
       "      <td>0</td>\n",
       "      <td>0</td>\n",
       "      <td>0</td>\n",
       "      <td>0</td>\n",
       "      <td>0</td>\n",
       "      <td>0</td>\n",
       "      <td>...</td>\n",
       "      <td>0</td>\n",
       "      <td>0</td>\n",
       "      <td>0</td>\n",
       "      <td>0</td>\n",
       "      <td>0</td>\n",
       "      <td>0</td>\n",
       "      <td>0</td>\n",
       "      <td>0</td>\n",
       "      <td>0</td>\n",
       "      <td>0</td>\n",
       "    </tr>\n",
       "    <tr>\n",
       "      <th>7386</th>\n",
       "      <td>zae_end</td>\n",
       "      <td>0</td>\n",
       "      <td>0</td>\n",
       "      <td>0</td>\n",
       "      <td>0</td>\n",
       "      <td>0</td>\n",
       "      <td>0</td>\n",
       "      <td>0</td>\n",
       "      <td>0</td>\n",
       "      <td>0</td>\n",
       "      <td>...</td>\n",
       "      <td>0</td>\n",
       "      <td>0</td>\n",
       "      <td>0</td>\n",
       "      <td>0</td>\n",
       "      <td>0</td>\n",
       "      <td>0</td>\n",
       "      <td>0</td>\n",
       "      <td>0</td>\n",
       "      <td>0</td>\n",
       "      <td>0</td>\n",
       "    </tr>\n",
       "    <tr>\n",
       "      <th>7374</th>\n",
       "      <td>zae_end</td>\n",
       "      <td>0</td>\n",
       "      <td>0</td>\n",
       "      <td>0</td>\n",
       "      <td>0</td>\n",
       "      <td>0</td>\n",
       "      <td>0</td>\n",
       "      <td>0</td>\n",
       "      <td>0</td>\n",
       "      <td>0</td>\n",
       "      <td>...</td>\n",
       "      <td>0</td>\n",
       "      <td>0</td>\n",
       "      <td>0</td>\n",
       "      <td>0</td>\n",
       "      <td>0</td>\n",
       "      <td>0</td>\n",
       "      <td>0</td>\n",
       "      <td>0</td>\n",
       "      <td>0</td>\n",
       "      <td>0</td>\n",
       "    </tr>\n",
       "  </tbody>\n",
       "</table>\n",
       "<p>47153 rows × 785 columns</p>\n",
       "</div>"
      ],
      "text/plain": [
       "        label  1x1  1x2  1x3  1x4  1x5  1x6  1x7  1x8  1x9  ...  28x19  28x20  \\\n",
       "234      alif    0    0    0    0    0    0    0    0    0  ...      0      0   \n",
       "235      alif    0    0    0    0    0    0    0    0    0  ...      0      0   \n",
       "236      alif    0    0    0    0    0    0    0    0    0  ...      0      0   \n",
       "237      alif    0    0    0    0    0    0    0    0    0  ...      0      0   \n",
       "238      alif    0    0    0    0    0    0    0    0    0  ...      0      0   \n",
       "...       ...  ...  ...  ...  ...  ...  ...  ...  ...  ...  ...    ...    ...   \n",
       "7367  zae_end    0    0    0    0    0    0    0    0    0  ...      0      0   \n",
       "7391  zae_end    0    0    0    0    0    0    0    0    0  ...      0      0   \n",
       "7375  zae_end    0    0    0    0    0    0    0    0    0  ...      0      0   \n",
       "7386  zae_end    0    0    0    0    0    0    0    0    0  ...      0      0   \n",
       "7374  zae_end    0    0    0    0    0    0    0    0    0  ...      0      0   \n",
       "\n",
       "      28x21  28x22  28x23  28x24  28x25  28x26  28x27  28x28  \n",
       "234       0      0      0      0      0      0      0      0  \n",
       "235       0      0      0      0      0      0      0      0  \n",
       "236       0      0      0      0      0      0      0      0  \n",
       "237       0      0      0      0      0      0      0      0  \n",
       "238       0      0      0      0      0      0      0      0  \n",
       "...     ...    ...    ...    ...    ...    ...    ...    ...  \n",
       "7367      0      0      0      0      0      0      0      0  \n",
       "7391      0      0      0      0      0      0      0      0  \n",
       "7375      0      0      0      0      0      0      0      0  \n",
       "7386      0      0      0      0      0      0      0      0  \n",
       "7374      0      0      0      0      0      0      0      0  \n",
       "\n",
       "[47153 rows x 785 columns]"
      ]
     },
     "execution_count": 10,
     "metadata": {},
     "output_type": "execute_result"
    }
   ],
   "source": [
    "from sklearn.utils import resample\n",
    "List=['ain', 'ain_end', 'ain_middle', 'ain_start', 'alif_end', 'alif_maqsora', 'bae_end', 'bae_middle', 'bae_start', 'dad_start', 'dal', 'dal_end', 'fa_end', 'fa_middle', 'fa_start', 'ghain_middle', 'hae_start', 'hamza', 'hhae_middle', 'hhae_start', 'jeem', 'jeem_start', 'kaf_middle', 'kaf_start', 'khae_middle', 'khae_start', 'lam_alif', 'lam_end', 'lam_middle', 'lam_start', 'mim', 'mim_middle', 'mim_start', 'noun', 'noun_end', 'noun_middle', 'noun_start', 'qua_middle', 'rae', 'rae_end', 'sad_start', 'seen', 'seen_end', 'seen_middle', 'seen_start', 'sheen_middle', 'sheen_start', 'tae_end', 'tae_marbouta', 'tae_marbouta_end', 'tae_middle', 'ta_middle', 'thae', 'waw', 'waw_end', 'yae_end', 'yae_middle', 'yae_start', 'zae', 'zae_end']\n",
    "class_2=data[data['label']==\"alif\"]\n",
    "data_b=pd.concat([class_2])\n",
    "for i in List:\n",
    "    class_1=data[data['label']==i]\n",
    "\n",
    "    class_1_upsampled=resample(class_1,replace=True,n_samples=len(class_2),random_state=27)\n",
    "    print(\"class \",i+\"  a pour size\",class_1_upsampled.shape)\n",
    "    upsampled=pd.concat([data_b,class_1_upsampled])\n",
    "    upsampled['label'].value_counts()\n",
    "    data_b=upsampled\n",
    "data_b"
   ]
  },
  {
   "cell_type": "markdown",
   "id": "b97255eb",
   "metadata": {},
   "source": [
    "### Nombre d'occurence de chaque classe après l'équilibrage du jeu de données"
   ]
  },
  {
   "cell_type": "code",
   "execution_count": 11,
   "id": "ba32b2a9",
   "metadata": {},
   "outputs": [
    {
     "data": {
      "text/plain": [
       "<AxesSubplot:title={'center':'Count (target)'}>"
      ]
     },
     "execution_count": 11,
     "metadata": {},
     "output_type": "execute_result"
    },
    {
     "data": {
      "image/png": "[encoded data removed]",
      "text/plain": [
       "<Figure size 432x288 with 1 Axes>"
      ]
     },
     "metadata": {
      "needs_background": "light"
     },
     "output_type": "display_data"
    }
   ],
   "source": [
    "target_count = data_b[\"label\"].value_counts()\n",
    "target_count.plot(kind='bar', title='Count (target)')"
   ]
  },
  {
   "cell_type": "code",
   "execution_count": 13,
   "id": "cb8d2314",
   "metadata": {},
   "outputs": [],
   "source": [
    "from sklearn.model_selection import train_test_split\n",
    "X_train, X_test, y_train, y_test = train_test_split(X, y, test_size=0.35, shuffle=True)"
   ]
  },
  {
   "cell_type": "code",
   "execution_count": 14,
   "id": "8e0406a9",
   "metadata": {},
   "outputs": [
    {
     "name": "stdout",
     "output_type": "stream",
     "text": [
      "(30649, 784)\n",
      "(30649,)\n",
      "(16504, 784)\n",
      "(16504,)\n"
     ]
    }
   ],
   "source": [
    "print(X_train.shape)\n",
    "print (y_train.shape)\n",
    "print (X_test.shape)\n",
    "print (y_test.shape)"
   ]
  },
  {
   "cell_type": "markdown",
   "id": "72d6fcc6",
   "metadata": {},
   "source": [
    "### L'entrainement du modèle après équilibrage du jeu de données"
   ]
  },
  {
   "cell_type": "code",
   "execution_count": 16,
   "id": "c011bbde",
   "metadata": {},
   "outputs": [],
   "source": [
    "model = RandomForestClassifier(n_estimators=100)"
   ]
  },
  {
   "cell_type": "code",
   "execution_count": 17,
   "id": "43899967",
   "metadata": {},
   "outputs": [
    {
     "data": {
      "text/plain": [
       "RandomForestClassifier()"
      ]
     },
     "execution_count": 17,
     "metadata": {},
     "output_type": "execute_result"
    }
   ],
   "source": [
    "model.fit(X_train,y_train)"
   ]
  },
  {
   "cell_type": "markdown",
   "id": "6ff05ef3",
   "metadata": {},
   "source": [
    "Accuracy Train"
   ]
  },
  {
   "cell_type": "code",
   "execution_count": 20,
   "id": "e449ed8c",
   "metadata": {},
   "outputs": [
    {
     "name": "stdout",
     "output_type": "stream",
     "text": [
      "Classification Report\n",
      "                  precision    recall  f1-score   support\n",
      "\n",
      "             ain       1.00      1.00      1.00       492\n",
      "         ain_end       1.00      1.00      1.00       513\n",
      "      ain_middle       1.00      1.00      1.00       513\n",
      "       ain_start       1.00      1.00      1.00       508\n",
      "            alif       0.98      0.99      0.99       499\n",
      "        alif_end       0.99      0.97      0.98       492\n",
      "    alif_maqsora       1.00      1.00      1.00       496\n",
      "         bae_end       1.00      1.00      1.00       482\n",
      "      bae_middle       1.00      1.00      1.00       531\n",
      "       bae_start       1.00      1.00      1.00       503\n",
      "       dad_start       1.00      1.00      1.00       518\n",
      "             dal       0.97      0.99      0.98       500\n",
      "         dal_end       0.99      0.97      0.98       504\n",
      "          fa_end       1.00      1.00      1.00       479\n",
      "       fa_middle       1.00      1.00      1.00       529\n",
      "        fa_start       1.00      1.00      1.00       483\n",
      "    ghain_middle       1.00      1.00      1.00       498\n",
      "       hae_start       1.00      1.00      1.00       491\n",
      "           hamza       1.00      1.00      1.00       516\n",
      "     hhae_middle       1.00      1.00      1.00       494\n",
      "      hhae_start       1.00      1.00      1.00       501\n",
      "            jeem       1.00      1.00      1.00       519\n",
      "      jeem_start       1.00      1.00      1.00       515\n",
      "      kaf_middle       1.00      1.00      1.00       505\n",
      "       kaf_start       1.00      1.00      1.00       494\n",
      "     khae_middle       1.00      1.00      1.00       508\n",
      "      khae_start       1.00      1.00      1.00       490\n",
      "        lam_alif       1.00      1.00      1.00       500\n",
      "         lam_end       1.00      1.00      1.00       503\n",
      "      lam_middle       1.00      1.00      1.00       489\n",
      "       lam_start       1.00      1.00      1.00       488\n",
      "             mim       1.00      1.00      1.00       509\n",
      "      mim_middle       1.00      1.00      1.00       508\n",
      "       mim_start       1.00      1.00      1.00       487\n",
      "            noun       0.99      0.95      0.97       506\n",
      "        noun_end       0.95      0.99      0.97       500\n",
      "     noun_middle       1.00      1.00      1.00       506\n",
      "      noun_start       1.00      1.00      1.00       511\n",
      "      qua_middle       1.00      1.00      1.00       493\n",
      "             rae       0.99      1.00      1.00       492\n",
      "         rae_end       1.00      0.99      1.00       516\n",
      "       sad_start       1.00      1.00      1.00       507\n",
      "            seen       1.00      1.00      1.00       506\n",
      "        seen_end       1.00      1.00      1.00       490\n",
      "     seen_middle       0.93      0.89      0.91       501\n",
      "      seen_start       0.89      0.94      0.91       499\n",
      "    sheen_middle       1.00      1.00      1.00       507\n",
      "     sheen_start       1.00      1.00      1.00       525\n",
      "       ta_middle       1.00      1.00      1.00       495\n",
      "         tae_end       1.00      1.00      1.00       499\n",
      "    tae_marbouta       1.00      1.00      1.00       509\n",
      "tae_marbouta_end       1.00      1.00      1.00       509\n",
      "      tae_middle       1.00      1.00      1.00       516\n",
      "            thae       1.00      1.00      1.00       502\n",
      "             waw       1.00      1.00      1.00       491\n",
      "         waw_end       1.00      1.00      1.00       504\n",
      "         yae_end       1.00      1.00      1.00       509\n",
      "      yae_middle       1.00      1.00      1.00       494\n",
      "       yae_start       1.00      1.00      1.00       505\n",
      "             zae       1.00      1.00      1.00       499\n",
      "         zae_end       1.00      1.00      1.00       501\n",
      "\n",
      "        accuracy                           0.99     30649\n",
      "       macro avg       0.99      0.99      0.99     30649\n",
      "    weighted avg       0.99      0.99      0.99     30649\n",
      "\n"
     ]
    }
   ],
   "source": [
    "pred=model.predict(X_train)\n",
    "print (\"Classification Report\")\n",
    "print(classification_report(y_train, pred))"
   ]
  },
  {
   "cell_type": "markdown",
   "id": "a8a578af",
   "metadata": {},
   "source": [
    "Accuracy test"
   ]
  },
  {
   "cell_type": "code",
   "execution_count": 19,
   "id": "3ecd605a",
   "metadata": {},
   "outputs": [
    {
     "name": "stdout",
     "output_type": "stream",
     "text": [
      "Classification Report\n",
      "                  precision    recall  f1-score   support\n",
      "\n",
      "             ain       1.00      1.00      1.00       281\n",
      "         ain_end       1.00      1.00      1.00       260\n",
      "      ain_middle       1.00      1.00      1.00       260\n",
      "       ain_start       1.00      1.00      1.00       265\n",
      "            alif       0.91      0.88      0.89       274\n",
      "        alif_end       0.93      0.91      0.92       281\n",
      "    alif_maqsora       1.00      1.00      1.00       277\n",
      "         bae_end       1.00      1.00      1.00       291\n",
      "      bae_middle       1.00      1.00      1.00       242\n",
      "       bae_start       0.97      0.99      0.98       270\n",
      "       dad_start       1.00      1.00      1.00       255\n",
      "             dal       0.96      0.99      0.97       273\n",
      "         dal_end       0.96      0.95      0.96       269\n",
      "          fa_end       1.00      1.00      1.00       294\n",
      "       fa_middle       0.99      1.00      1.00       244\n",
      "        fa_start       1.00      1.00      1.00       290\n",
      "    ghain_middle       1.00      1.00      1.00       275\n",
      "       hae_start       0.99      0.98      0.99       282\n",
      "           hamza       0.97      0.96      0.96       257\n",
      "     hhae_middle       0.98      1.00      0.99       279\n",
      "      hhae_start       1.00      1.00      1.00       272\n",
      "            jeem       1.00      1.00      1.00       254\n",
      "      jeem_start       0.99      1.00      1.00       258\n",
      "      kaf_middle       1.00      1.00      1.00       268\n",
      "       kaf_start       0.99      1.00      1.00       279\n",
      "     khae_middle       1.00      1.00      1.00       265\n",
      "      khae_start       1.00      1.00      1.00       283\n",
      "        lam_alif       1.00      1.00      1.00       273\n",
      "         lam_end       0.99      1.00      1.00       270\n",
      "      lam_middle       1.00      1.00      1.00       284\n",
      "       lam_start       0.93      0.93      0.93       285\n",
      "             mim       1.00      0.98      0.99       264\n",
      "      mim_middle       0.96      0.93      0.94       265\n",
      "       mim_start       0.98      0.99      0.98       286\n",
      "            noun       1.00      0.94      0.97       267\n",
      "        noun_end       0.95      0.99      0.97       273\n",
      "     noun_middle       1.00      0.99      0.99       267\n",
      "      noun_start       0.97      1.00      0.98       262\n",
      "      qua_middle       1.00      1.00      1.00       280\n",
      "             rae       0.98      0.99      0.98       281\n",
      "         rae_end       1.00      0.99      0.99       257\n",
      "       sad_start       1.00      1.00      1.00       266\n",
      "            seen       0.99      1.00      0.99       267\n",
      "        seen_end       1.00      1.00      1.00       283\n",
      "     seen_middle       0.90      0.85      0.88       272\n",
      "      seen_start       0.88      0.93      0.90       274\n",
      "    sheen_middle       0.97      1.00      0.99       266\n",
      "     sheen_start       1.00      1.00      1.00       248\n",
      "       ta_middle       1.00      0.99      0.99       278\n",
      "         tae_end       1.00      1.00      1.00       274\n",
      "    tae_marbouta       1.00      1.00      1.00       264\n",
      "tae_marbouta_end       1.00      1.00      1.00       264\n",
      "      tae_middle       1.00      1.00      1.00       257\n",
      "            thae       1.00      1.00      1.00       271\n",
      "             waw       0.99      1.00      0.99       282\n",
      "         waw_end       0.98      0.97      0.98       269\n",
      "         yae_end       0.96      0.99      0.98       264\n",
      "      yae_middle       0.99      0.93      0.96       279\n",
      "       yae_start       0.99      0.99      0.99       268\n",
      "             zae       1.00      1.00      1.00       274\n",
      "         zae_end       1.00      1.00      1.00       272\n",
      "\n",
      "        accuracy                           0.98     16504\n",
      "       macro avg       0.98      0.98      0.98     16504\n",
      "    weighted avg       0.98      0.98      0.98     16504\n",
      "\n"
     ]
    }
   ],
   "source": [
    "pred=model.predict(X_test)\n",
    "print (\"Classification Report\")\n",
    "print(classification_report(y_test, pred))"
   ]
  },
  {
   "cell_type": "markdown",
   "id": "3a6cdddc",
   "metadata": {},
   "source": [
    "#### Stratégie Validation Croisé"
   ]
  },
  {
   "cell_type": "code",
   "execution_count": 18,
   "id": "91f2b78f",
   "metadata": {},
   "outputs": [
    {
     "name": "stdout",
     "output_type": "stream",
     "text": [
      "[0.98515534 0.9879122  0.98716997 0.99045599 0.98388123]\n",
      "0.9869149472425327\n"
     ]
    }
   ],
   "source": [
    "scores = cross_val_score(model, X, y, cv=5)\n",
    "print(scores)\n",
    "print(scores.mean())"
   ]
  },
  {
   "cell_type": "markdown",
   "id": "fa6cefbd",
   "metadata": {},
   "source": [
    "###  quelques images avec que leurs valeurs réelles et prédits"
   ]
  },
  {
   "cell_type": "code",
   "execution_count": 133,
   "id": "f75582ce",
   "metadata": {},
   "outputs": [
    {
     "data": {
      "image/png": "[encoded data removed]",
      "text/plain": [
       "<Figure size 432x288 with 1 Axes>"
      ]
     },
     "metadata": {
      "needs_background": "light"
     },
     "output_type": "display_data"
    },
    {
     "name": "stdout",
     "output_type": "stream",
     "text": [
      "      valeur predit: ['yae_middle']\n",
      "      valeur reel: 7010    yae_middle\n",
      "Name: label, dtype: object\n"
     ]
    }
   ],
   "source": [
    "M=X_test[8:9]\n",
    "from matplotlib import pyplot as plt\n",
    "plt.imshow(np.array(M).reshape(28,28), interpolation='none')\n",
    "plt.show()\n",
    "pred=model.predict(M)\n",
    "print(\"      valeur predit:\",pred)\n",
    "print(\"      valeur reel:\",y_test[8:9])"
   ]
  },
  {
   "cell_type": "code",
   "execution_count": 144,
   "id": "af51ad1a",
   "metadata": {},
   "outputs": [
    {
     "data": {
      "image/png": "[encoded data removed]",
      "text/plain": [
       "<Figure size 432x288 with 1 Axes>"
      ]
     },
     "metadata": {
      "needs_background": "light"
     },
     "output_type": "display_data"
    },
    {
     "name": "stdout",
     "output_type": "stream",
     "text": [
      "      valeur predit: ['ain_start']\n",
      "      valeur reel: 149    ain_start\n",
      "Name: label, dtype: object\n"
     ]
    }
   ],
   "source": [
    "M=X_test[112:113]\n",
    "from matplotlib import pyplot as plt\n",
    "plt.imshow(np.array(M).reshape(28,28), interpolation='none')\n",
    "plt.show()\n",
    "pred=model.predict(M)\n",
    "print(\"      valeur predit:\",pred)\n",
    "print(\"      valeur reel:\",y_test[112:113])"
   ]
  },
  {
   "cell_type": "code",
   "execution_count": 173,
   "id": "f38bc8f0",
   "metadata": {},
   "outputs": [
    {
     "data": {
      "image/png": "[encoded data removed]",
      "text/plain": [
       "<Figure size 432x288 with 1 Axes>"
      ]
     },
     "metadata": {
      "needs_background": "light"
     },
     "output_type": "display_data"
    },
    {
     "name": "stdout",
     "output_type": "stream",
     "text": [
      "      valeur predit: ['rae_end']\n",
      "      valeur reel: 5370    seen_end\n",
      "Name: label, dtype: object\n"
     ]
    }
   ],
   "source": [
    "M=X_test[252:253]\n",
    "from matplotlib import pyplot as plt\n",
    "plt.imshow(np.array(M).reshape(28,28), interpolation='none')\n",
    "plt.show()\n",
    "pred=model.predict(M)\n",
    "print(\"      valeur predit:\",pred)\n",
    "print(\"      valeur reel:\",y_test[252:253])"
   ]
  },
  {
   "cell_type": "markdown",
   "id": "67881adb",
   "metadata": {},
   "source": [
    "#### Matrice de confusion pour 15 élément de l'ensemble de testing"
   ]
  },
  {
   "cell_type": "code",
   "execution_count": 147,
   "id": "c55f303c",
   "metadata": {},
   "outputs": [
    {
     "data": {
      "image/png": "[encoded data removed]",
      "text/plain": [
       "<Figure size 432x288 with 2 Axes>"
      ]
     },
     "metadata": {
      "needs_background": "light"
     },
     "output_type": "display_data"
    }
   ],
   "source": [
    "import sklearn.metrics as metrics\n",
    "confusion_matrix=metrics.confusion_matrix(y_test[:15],model.predict(X_test[:15]))\n",
    "cm_display=metrics.ConfusionMatrixDisplay(confusion_matrix)\n",
    "cm_display.plot()\n",
    "plt.show()"
   ]
  }
 ],
 "metadata": {
  "kernelspec": {
   "display_name": "Python 3",
   "language": "python",
   "name": "python3"
  },
  "language_info": {
   "codemirror_mode": {
    "name": "ipython",
    "version": 3
   },
   "file_extension": ".py",
   "mimetype": "text/x-python",
   "name": "python",
   "nbconvert_exporter": "python",
   "pygments_lexer": "ipython3",
   "version": "3.8.8"
  }
 },
 "nbformat": 4,
 "nbformat_minor": 5
}
