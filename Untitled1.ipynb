{
 "cells": [
  {
   "cell_type": "code",
   "execution_count": 1,
   "id": "2cc6120d",
   "metadata": {},
   "outputs": [
    {
     "name": "stdout",
     "output_type": "stream",
     "text": [
      "(2328, 1664)\n"
     ]
    }
   ],
   "source": [
    "from PIL import Image\n",
    "\n",
    "im = Image.open(\"C:\\\\Users\\\\HP\\Downloads\\\\machine learning001.bmp\")\n",
    "im.rotate(90)\n",
    "print(im.size)\n",
    "left=320\n",
    "top=420\n",
    "width=1830\n",
    "height=980\n",
    "box = (left, top, left+width, top+height)\n",
    "area = im.crop(box)\n",
    "area.show()"
   ]
  },
  {
   "cell_type": "code",
   "execution_count": 2,
   "id": "b31d81df",
   "metadata": {},
   "outputs": [],
   "source": [
    "from PIL import Image\n",
    "\n",
    "im = Image.open(\"C:\\\\Users\\\\HP\\Downloads\\\\machine learning004.bmp\")\n",
    "\n",
    "img=im.transpose(Image.ROTATE_270)\n",
    "left = 320\n",
    "top = 225\n",
    "width = 1830\n",
    "height = 930\n",
    "box = (left, top, left+width, top+height)\n",
    "area = img.crop(box)\n",
    "area.show()"
   ]
  },
  {
   "cell_type": "code",
   "execution_count": 3,
   "id": "c5664baf",
   "metadata": {},
   "outputs": [],
   "source": [
    "from PIL import Image  \n",
    "import PIL  \n",
    "import glob\n",
    "Data1=glob.glob(r'C:/Users/HP/Documents/SDAD_S3/ML/projet/Data1/data/bmp/Data_1/*.*')\n",
    "Data2=glob.glob(r'C:/Users/HP/Documents/SDAD_S3/ML/projet/Data1/data/bmp/Data_2/*.*')\n",
    "chemin='C:/Users/HP/Documents/SDAD_S3/ML/projet/res1/'\n",
    "liste=[]\n",
    "for file in Data1:\n",
    "    im=Image.open(file)\n",
    "    img=im.transpose(Image.ROTATE_270)\n",
    "    left=320\n",
    "    top=430\n",
    "    width=1830\n",
    "    height=930\n",
    "    box=(left,top,left+width,top+height)\n",
    "    area=img.crop(box)\n",
    "    liste.append(area)\n",
    "for file in Data2:\n",
    "    im=Image.open(file)\n",
    "    img=im.transpose(Image.ROTATE_270)\n",
    "    left = 320\n",
    "    top = 225\n",
    "    width = 1830\n",
    "    height = 930\n",
    "    box=(left,top,left+width,top+height)\n",
    "    area=img.crop(box)\n",
    "    liste.append(area)\n",
    "for i in range(len(liste)):\n",
    "    liste[i].save(chemin+'img'+str(i)+'.png')"
   ]
  },
  {
   "cell_type": "code",
   "execution_count": 4,
   "id": "bea69398",
   "metadata": {},
   "outputs": [],
   "source": [
    "import image_slicer\n",
    "Data=glob.glob(r'C:/Users/HP/Documents/SDAD_S3/ML/projet/res1/*.*')\n",
    "for file in Data:\n",
    "    image_slicer.slice(file,16)"
   ]
  },
  {
   "cell_type": "code",
   "execution_count": 259,
   "id": "175b8491",
   "metadata": {},
   "outputs": [
    {
     "name": "stdout",
     "output_type": "stream",
     "text": [
      "(457, 232)\n",
      "(280, 200)\n"
     ]
    }
   ],
   "source": [
    "im = Image.open(\"C:/Users/HP/Downloads/img1.png\")\n",
    "print(im.size)\n",
    "left = 60\n",
    "top = 100\n",
    "width = 280\n",
    "height = 200\n",
    "box = (left, top, left+width, top+height)\n",
    "area = img.crop(box)\n",
    "print(area.size)\n",
    "area.show()\n",
    "\n"
   ]
  },
  {
   "cell_type": "code",
   "execution_count": 265,
   "id": "06770b27",
   "metadata": {},
   "outputs": [
    {
     "name": "stderr",
     "output_type": "stream",
     "text": [
      "<ipython-input-265-2339718176b8>:3: DeprecationWarning: ROTATE_270 is deprecated and will be removed in Pillow 10 (2023-07-01). Use Transpose.ROTATE_270 instead.\n",
      "  img=im.transpose(Image.ROTATE_270)\n",
      "<ipython-input-265-2339718176b8>:7: DeprecationWarning: ROTATE_90 is deprecated and will be removed in Pillow 10 (2023-07-01). Use Transpose.ROTATE_90 instead.\n",
      "  img=im_1.transpose(Image.ROTATE_90)\n"
     ]
    }
   ],
   "source": [
    "import image_slicer\n",
    "im=Image.open('C:/Users/HP/Downloads/img1.png')\n",
    "img=im.transpose(Image.ROTATE_270)\n",
    "img.save('C:/Users/HP/Downloads/GHASSAN1.png')\n",
    "image_slicer.slice('C:/Users/HP/Downloads/GHASSAN1.png',2)\n",
    "im_1=Image.open('C:/Users/HP/Downloads/GHASSAN1.png')\n",
    "img=im_1.transpose(Image.ROTATE_90)\n",
    "img.save('C:/Users/HP/Downloads/GHASSAN2.png')"
   ]
  },
  {
   "cell_type": "code",
   "execution_count": 220,
   "id": "431cd8de",
   "metadata": {},
   "outputs": [],
   "source": [
    "import image_slicer"
   ]
  }
 ],
 "metadata": {
  "kernelspec": {
   "display_name": "Python 3",
   "language": "python",
   "name": "python3"
  },
  "language_info": {
   "codemirror_mode": {
    "name": "ipython",
    "version": 3
   },
   "file_extension": ".py",
   "mimetype": "text/x-python",
   "name": "python",
   "nbconvert_exporter": "python",
   "pygments_lexer": "ipython3",
   "version": "3.8.8"
  }
 },
 "nbformat": 4,
 "nbformat_minor": 5
}
