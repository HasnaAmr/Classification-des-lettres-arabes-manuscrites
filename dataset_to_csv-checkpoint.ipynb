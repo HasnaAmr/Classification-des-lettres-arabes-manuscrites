{
 "cells": [
  {
   "cell_type": "markdown",
   "metadata": {},
   "source": [
    "#  Directory letters to CSV"
   ]
  },
  {
   "cell_type": "code",
   "execution_count": 10,
   "metadata": {},
   "outputs": [],
   "source": [
    "from PIL import ImageChops,Image\n",
    "import matplotlib.pyplot as plt\n",
    "import numpy as np\n",
    "import glob\n",
    "import cv2\n",
    "import pandas as pd\n",
    "import imutils\n",
    "import os\n"
   ]
  },
  {
   "cell_type": "code",
   "execution_count": 19,
   "metadata": {},
   "outputs": [],
   "source": [
    "def create_directory(path):\n",
    "    if not os.path.exists(path):\n",
    "        os.makedirs(path)\n",
    "def trim(image):\n",
    "    image=Image.fromarray(image.astype(np.uint8))\n",
    "    bg = Image.new(image.mode, image.size, image.getpixel((0,0)))\n",
    "    diff = ImageChops.difference(image, bg)\n",
    "    diff = ImageChops.add(diff, diff, 2.0, -100)\n",
    "    bbox = diff.getbbox()\n",
    "    if bbox:\n",
    "        return np.array(image.crop(bbox))\n",
    "    raise NameError('error')\n",
    "def remove_small_noise(binary_image):\n",
    "\tnlabels, labels, stats, centroids = cv2.connectedComponentsWithStats(binary_image, None, None, None, 8, cv2.CV_32S)\n",
    "\tareas = stats[1:,cv2.CC_STAT_AREA]\n",
    "\tresult = np.zeros((labels.shape), np.uint8)\n",
    "\tfor i in range(0, nlabels - 1):\n",
    "\t\tif areas[i] >= 100:   #keep\n",
    "\t\t\tresult[labels == i + 1] = 255\n",
    "\treturn result\n",
    "def image_resize(image, width = None, height = None, inter = cv2.INTER_AREA):\n",
    "    dim = None\n",
    "    (h, w) = image.shape[:2]\n",
    "    if width is None and height is None:\n",
    "        return image\n",
    "    if width is None:\n",
    "        r = height / float(h)\n",
    "        dim = (int(w * r), height)\n",
    "    else:\n",
    "        r = width / float(w)\n",
    "        dim = (width, int(h * r))\n",
    "    resized = cv2.resize(image, dim, interpolation = inter)\n",
    "    return resized\n",
    "def create_image(image):\n",
    "    try:\n",
    "        image_gray = cv2.cvtColor(image, cv2.COLOR_BGR2GRAY)\n",
    "    except:\n",
    "        image_gray = cv2.cvtColor(image, cv2.COLOR_RGB2GRAY)\n",
    "    thresh, binary_image = cv2.threshold(image_gray, 128, 255, cv2.THRESH_BINARY + cv2.THRESH_OTSU)\n",
    "    #cleaned_image=remove_small_noise(binary_image)\n",
    "    cleaned_image=binary_image\n",
    "    croped_image=trim(cleaned_image)\n",
    "    bg=np.zeros((28,28))\n",
    "    resized_image=image_resize(croped_image,height=26)\n",
    "    thresh, binary_image = cv2.threshold(resized_image, 128, 255, cv2.THRESH_BINARY + cv2.THRESH_OTSU)\n",
    "    hh, ww = bg.shape\n",
    "    h, w = binary_image.shape\n",
    "    yoff = round((hh-h)/2)\n",
    "    xoff = round((ww-w)/2)\n",
    "    if xoff<=0:\n",
    "        resized_image=resized_image=image_resize(croped_image,width=26)\n",
    "        thresh, binary_image = cv2.threshold(resized_image, 128, 255, cv2.THRESH_BINARY + cv2.THRESH_OTSU)\n",
    "        hh, ww = bg.shape\n",
    "        h, w = binary_image.shape\n",
    "        yoff = round((hh-h)/2)\n",
    "        xoff = round((ww-w)/2)\n",
    "    # kernel = np.ones((2, 2), np.uint8)\n",
    "    # binary_image = cv2.dilate(binary_image, kernel, iterations=1)\n",
    "    result = bg.copy()\n",
    "    result[yoff:yoff+h, xoff:xoff+w] = binary_image\n",
    "    return result"
   ]
  },
  {
   "cell_type": "markdown",
   "metadata": {},
   "source": [
    "### Testing"
   ]
  },
  {
   "cell_type": "code",
   "execution_count": 20,
   "metadata": {},
   "outputs": [],
   "source": [
    "def create_dataset(input='operators',output='output'):\n",
    "    data_list=[]\n",
    "    for class_path in glob.iglob(input+'/*'):\n",
    "        class_name=class_path.split('\\\\')[-1]\n",
    "        for file_path in glob.iglob(input+'/'+class_name+'/*'):\n",
    "            original=cv2.imread(file_path).astype('uint8')\n",
    "            cleaned=create_image(original)\n",
    "            image_vector=[class_name]\n",
    "            image_vector.extend(cleaned.reshape(cleaned.shape[0]*cleaned.shape[0]).astype(int).tolist())\n",
    "            data_list.append(image_vector)\n",
    "    columns=['label']\n",
    "    columns.extend([str(j)+'x'+str(i) for j in range(1,28+1) for i in range(1,28+1)])\n",
    "    data=pd.DataFrame(data_list,columns=columns)\n",
    "    data.to_csv(output,index=False)\n"
   ]
  },
  {
   "cell_type": "code",
   "execution_count": 21,
   "metadata": {},
   "outputs": [],
   "source": [
    "create_dataset(input='letters_arab',output='arabic.csv')"
   ]
  }
 ],
 "metadata": {
  "kernelspec": {
   "display_name": "Python 3",
   "language": "python",
   "name": "python3"
  },
  "language_info": {
   "codemirror_mode": {
    "name": "ipython",
    "version": 3
   },
   "file_extension": ".py",
   "mimetype": "text/x-python",
   "name": "python",
   "nbconvert_exporter": "python",
   "pygments_lexer": "ipython3",
   "version": "3.8.8"
  },
  "vscode": {
   "interpreter": {
    "hash": "369f2c481f4da34e4445cda3fffd2e751bd1c4d706f27375911949ba6bb62e1c"
   }
  }
 },
 "nbformat": 4,
 "nbformat_minor": 2
}
