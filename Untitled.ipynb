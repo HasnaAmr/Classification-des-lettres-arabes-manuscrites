{
 "cells": [
  {
   "cell_type": "code",
   "execution_count": null,
   "id": "b0954fb6",
   "metadata": {},
   "outputs": [],
   "source": [
    "import Image\n",
    "#Download Image:\n",
    "im = Image.open(\"C:\\Users\\HP\\Pictures\\Camera Roll\\image.jpg\")\n",
    "#Check Image Size\n",
    "im_size = im.size\n",
    "print(im_size)"
   ]
  },
  {
   "cell_type": "code",
   "execution_count": null,
   "id": "532d4703",
   "metadata": {},
   "outputs": [],
   "source": [
    "#Define box inside image\n",
    "left = 182\n",
    "top = 200\n",
    "width = 200\n",
    "height = 200"
   ]
  },
  {
   "cell_type": "code",
   "execution_count": null,
   "id": "2fc70513",
   "metadata": {},
   "outputs": [],
   "source": [
    "#Create Box\n",
    "box = (left, top, left+width, top+height)\n",
    "#Crop Image\n",
    "area = im.crop(box)\n",
    "area.show()\n",
    "#Save Image\n",
    "print area.size\n",
    "area.save(\"lena_selected_part.png\", \"PNG\")"
   ]
  }
 ],
 "metadata": {
  "kernelspec": {
   "display_name": "Python 3",
   "language": "python",
   "name": "python3"
  },
  "language_info": {
   "codemirror_mode": {
    "name": "ipython",
    "version": 3
   },
   "file_extension": ".py",
   "mimetype": "text/x-python",
   "name": "python",
   "nbconvert_exporter": "python",
   "pygments_lexer": "ipython3",
   "version": "3.8.8"
  }
 },
 "nbformat": 4,
 "nbformat_minor": 5
}
